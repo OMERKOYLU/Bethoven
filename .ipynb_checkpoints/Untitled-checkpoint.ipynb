{
 "cells": [
  {
   "cell_type": "code",
   "execution_count": 31,
   "id": "542b4478-d81a-4a94-a63c-f80a300c0357",
   "metadata": {},
   "outputs": [],
   "source": [
    "import pretty_midi\n",
    "\n",
    "midi=pretty_midi.PrettyMIDI()\n",
    "piano=pretty_midi.Instrument(program=0)\n",
    "\n",
    "start=0\n",
    "pitch=60\n",
    "for i in range(3):\n",
    "    pitch+=(i*2)\n",
    "    start+=0.4\n",
    "    note=pretty_midi.Note(start=start,end=start+0.40,pitch=pitch,velocity=60)\n",
    "    piano.notes.append(note)\n",
    "    \n",
    "midi.instruments.append(piano)\n",
    "midi.write(\"./midi/test.midi\")"
   ]
  },
  {
   "cell_type": "code",
   "execution_count": 30,
   "id": "9e228c5e-b5fe-4791-bb72-541bfda5c2e1",
   "metadata": {},
   "outputs": [
    {
     "name": "stdout",
     "output_type": "stream",
     "text": [
      "1.0\n"
     ]
    }
   ],
   "source": [
    "noteValues=[1/256,3/512,7/1024,15/2048,1/128,3/256,7/512,15/1024,1/64,3/128,7/256,15/512,1/32,3/64,7/128,15/256,1/16,3/32,7/64,15/128,1/8,3/16,7/32,15/64,1/4,3/8,7/16,15/32,1/2,3/4,7/8,15/16,1.0,3/2,7/4,15/8,2.0,3.0,3.5,3.75]\n",
    "print(noteValues[32])"
   ]
  },
  {
   "cell_type": "code",
   "execution_count": null,
   "id": "fcfdf327-f334-4171-a1d8-f60b1fb731ff",
   "metadata": {},
   "outputs": [],
   "source": []
  }
 ],
 "metadata": {
  "kernelspec": {
   "display_name": "Python 3",
   "language": "python",
   "name": "python3"
  },
  "language_info": {
   "codemirror_mode": {
    "name": "ipython",
    "version": 3
   },
   "file_extension": ".py",
   "mimetype": "text/x-python",
   "name": "python",
   "nbconvert_exporter": "python",
   "pygments_lexer": "ipython3",
   "version": "3.8.10"
  }
 },
 "nbformat": 4,
 "nbformat_minor": 5
}
