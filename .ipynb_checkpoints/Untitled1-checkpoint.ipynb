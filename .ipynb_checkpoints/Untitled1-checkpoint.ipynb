{
 "cells": [
  {
   "cell_type": "code",
   "execution_count": 5,
   "id": "95233245-aa49-43bd-adf4-7992638a026c",
   "metadata": {},
   "outputs": [
    {
     "name": "stdout",
     "output_type": "stream",
     "text": [
      "[Instrument(program=0, is_drum=False, name=\"\")]\n"
     ]
    }
   ],
   "source": [
    "import pretty_midi\n",
    "\n",
    "midi=pretty_midi.PrettyMIDI(\"/home/ufuk/Documents/baglama/mihriban.mid\")\n",
    "\n",
    "print(midi.instruments[0].notes)"
   ]
  },
  {
   "cell_type": "code",
   "execution_count": null,
   "id": "98ed8639-eca2-48f2-9e4e-f4fbf50ac58b",
   "metadata": {},
   "outputs": [],
   "source": []
  }
 ],
 "metadata": {
  "kernelspec": {
   "display_name": "Python 3",
   "language": "python",
   "name": "python3"
  },
  "language_info": {
   "codemirror_mode": {
    "name": "ipython",
    "version": 3
   },
   "file_extension": ".py",
   "mimetype": "text/x-python",
   "name": "python",
   "nbconvert_exporter": "python",
   "pygments_lexer": "ipython3",
   "version": "3.8.10"
  }
 },
 "nbformat": 4,
 "nbformat_minor": 5
}
